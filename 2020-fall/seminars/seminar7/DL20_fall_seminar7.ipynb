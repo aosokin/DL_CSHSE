{
  "nbformat": 4,
  "nbformat_minor": 0,
  "metadata": {
    "kernelspec": {
      "display_name": "Python 3",
      "language": "python",
      "name": "python3"
    },
    "language_info": {
      "codemirror_mode": {
        "name": "ipython",
        "version": 3
      },
      "file_extension": ".py",
      "mimetype": "text/x-python",
      "name": "python",
      "nbconvert_exporter": "python",
      "pygments_lexer": "ipython3",
      "version": "3.7.5"
    },
    "colab": {
      "name": "DL20-fall-seminar7.ipynb",
      "provenance": [],
      "collapsed_sections": []
    }
  },
  "cells": [
    {
      "cell_type": "markdown",
      "metadata": {
        "id": "ysOZpjoNuk-K"
      },
      "source": [
        "# Сверточные сети в задачах компьютерного зрения\n",
        "\n",
        "**Разработчики: Артем Бабенко, Екатерина Глазкова**"
      ]
    },
    {
      "cell_type": "markdown",
      "metadata": {
        "id": "8PrGzEGmuk-L"
      },
      "source": [
        "На этом семинаре необходимо будет (1) реализовать простейшую metric learning архитектуру на основе сиамской нейросети с Contrastive Loss и (2) обучить модель UNet для задачи сегментации изображения. "
      ]
    },
    {
      "cell_type": "markdown",
      "metadata": {
        "id": "iA7mLqbRuk-M"
      },
      "source": [
        "# Metric Learning (0.5 баллов)"
      ]
    },
    {
      "cell_type": "code",
      "metadata": {
        "jupyter": {
          "outputs_hidden": true
        },
        "id": "BOllOSuduk-N"
      },
      "source": [
        "%matplotlib inline\n",
        "import matplotlib.pyplot as plt\n",
        "import numpy as np\n",
        "from IPython.display import clear_output\n",
        "\n",
        "import torch\n",
        "import torch.nn as nn\n",
        "import torch.nn.functional as F\n",
        "import torchvision.datasets as dsets\n",
        "import torchvision.transforms as transforms\n",
        "import torch.optim as optim\n",
        "from torch.utils.data.sampler import Sampler, BatchSampler\n",
        "from torch.nn.modules.loss import MSELoss"
      ],
      "execution_count": null,
      "outputs": []
    },
    {
      "cell_type": "markdown",
      "metadata": {
        "id": "Y1wumt0buk-T"
      },
      "source": [
        "Вам необходимо реализовать вычисление Contrastive Loss - одну из самых популярных функций потерь для metric learning. Contrastive Loss получает на вход пару векторов $x_i$ и $x_j$ (признаковые описания объектов $i$ и $j$, полученные нейросетью) и метку $y_{ij}$, причем $y_{ij} = 0$, если объекты \"похожи\" (принадлежат одному классу), и $y_{ij} = 1$, если объекты \"различны\" (принадлежат различным классам). Формально определим Contrastive Loss следующим образом:\n",
        "\n",
        "$$\n",
        "L(x_i, x_j, y_{ij}) = (1 - y_{ij})\\|x_i - x_j\\|^2 + y_{ij}max(0, m - \\|x_i - x_j\\|^2)\n",
        "$$\n",
        "\n",
        "где $m$ - гиперпараметр (его можно взять равным единице).\n",
        "\n",
        "Вместо того, чтобы формировать обучающее множество из всевозможных пар, можно поступить проще: будем пропускать батч из $N$ обучаюших изображений через сеть (тем самым получая соответствующие векторы $x$), а значение лосса вычислять как среднее значение функции $L$ на всех парах в этом батче. Тогда в обучении на каждом батче участвует $\\frac{N(N-1)}{2}$ пар, что существенно ускоряет сходимость на практике. Реализуйте предложенный вариант Contrastive Loss."
      ]
    },
    {
      "cell_type": "code",
      "metadata": {
        "jupyter": {
          "outputs_hidden": true
        },
        "id": "-r1_6Mq4uk-U"
      },
      "source": [
        "class ContrastiveLoss(torch.nn.Module):\n",
        "    def __init__(self, margin=1.0):\n",
        "        super(ContrastiveLoss, self).__init__()\n",
        "        self.margin = margin\n",
        "\n",
        "    def forward(self, x, y):\n",
        "        # x: batch_size x num_features\n",
        "        # y: batch_size\n",
        "        #<your code>"
      ],
      "execution_count": null,
      "outputs": []
    },
    {
      "cell_type": "markdown",
      "metadata": {
        "id": "r4GLh9jsuk-Y"
      },
      "source": [
        "В задачах metric learning, как правило, необходимо, чтобы количества \"положительных\" и \"отрицательных\" пар в обучении отличалось несильно. Поэтому в случае большого количества классов случайное формирование батчей неэффективно - в таком случае количество \"положительных\" пар очень мало. Поэтому будем формировать обучающие батчи размера $N$ следующим образом: будем брать $\\frac{N}{2}$ элементов из некоторого класса (они между собой будут формировать \"положительные пары\"), а оставшиеся $\\frac{N}{2}$ элементов будем брать случайно. Таким образом мы гарантируем, что в каждом обучающем батче будет достаточно \"положительных\" пар.\n",
        "\n",
        "Реализуйте предложенную логику в рамках Pytorch, реализовав собственный BatchSampler. Ваш самплер должен формировать каждый батч размера $N$ следующим образом: $\\frac{N}{2}$ объектов извлекаются из некоторого случайного класса, оставшиеся $\\frac{N}{2}$ объектов извлекаются случайно."
      ]
    },
    {
      "cell_type": "code",
      "metadata": {
        "jupyter": {
          "outputs_hidden": true
        },
        "id": "mD-soGxyuk-Z"
      },
      "source": [
        "class ContrastiveSampler(BatchSampler):\n",
        "    def __init__(self, batch_size, num_classes, labels):\n",
        "        self.num_classes = num_classes\n",
        "        self.imgs_per_class = labels.size()[0] // num_classes\n",
        "        #<your code>\n",
        "\n",
        "    def __iter__(self):\n",
        "        num_yielded = 0\n",
        "        while num_yielded < (self.num_classes * self.imgs_per_class):\n",
        "            batch = []\n",
        "            #<your code>\n",
        "            num_yielded += self.batch_size\n",
        "            yield batch"
      ],
      "execution_count": null,
      "outputs": []
    },
    {
      "cell_type": "markdown",
      "metadata": {
        "id": "yiArWNrHuk-c"
      },
      "source": [
        "В этом задании будем работать с небольшими изображениями одежды из датасета Fashion-MNIST."
      ]
    },
    {
      "cell_type": "code",
      "metadata": {
        "jupyter": {
          "outputs_hidden": true
        },
        "id": "pG9gtImnuk-d"
      },
      "source": [
        "input_size = 784\n",
        "num_classes = 10\n",
        "batch_size = 256\n",
        "\n",
        "train_dataset = dsets.FashionMNIST(root='.', \n",
        "                                   train=True, \n",
        "                                   transform=transforms.ToTensor(),\n",
        "                                   download=True)\n",
        "\n",
        "test_dataset = dsets.FashionMNIST(root='.', \n",
        "                                  train=False, \n",
        "                                  transform=transforms.ToTensor())\n",
        "\n",
        "train_loader = torch.utils.data.DataLoader(dataset=train_dataset, \n",
        "                                           batch_sampler=ContrastiveSampler(batch_size=batch_size, num_classes=num_classes, labels=train_dataset.train_labels), \n",
        "                                           shuffle=False)\n",
        "\n",
        "test_loader = torch.utils.data.DataLoader(dataset=test_dataset, \n",
        "                                          batch_sampler=ContrastiveSampler(batch_size=batch_size, num_classes=num_classes, labels=test_dataset.test_labels), \n",
        "                                          shuffle=False)"
      ],
      "execution_count": null,
      "outputs": []
    },
    {
      "cell_type": "markdown",
      "metadata": {
        "id": "v08bnJfpuk-g"
      },
      "source": [
        "Реализуйте сеть несложной архитектуры, содержащую три сверточных слоя из 20 фильтров с макс-пулингом, а также два полносвязных слоя из 128 нейронов. Выход последнего слоя будет подаваться на вход Contrastive Loss."
      ]
    },
    {
      "cell_type": "code",
      "metadata": {
        "jupyter": {
          "outputs_hidden": true
        },
        "id": "QC6vmcghuk-h"
      },
      "source": [
        "class Flatten(nn.Module):\n",
        "    def forward(self, x):\n",
        "        return x.view(x.size()[0], -1)\n",
        "\n",
        "class ContrastiveNetwork(nn.Module):\n",
        "    def __init__(self):\n",
        "        super().__init__()\n",
        "        self.cnn1 = nn.Sequential(\n",
        "            #<your code>\n",
        "        )\n",
        "\n",
        "    def forward(self, x):\n",
        "        output = self.cnn1(x)\n",
        "        return output"
      ],
      "execution_count": null,
      "outputs": []
    },
    {
      "cell_type": "code",
      "metadata": {
        "jupyter": {
          "outputs_hidden": true
        },
        "id": "bQyvGcKduk-k"
      },
      "source": [
        "contrastive_loss = ContrastiveLoss()\n",
        "\n",
        "def train_epoch(model, optimizer):\n",
        "    loss_log = []\n",
        "    model.train()\n",
        "    for batch_num, (data, target) in enumerate(train_loader):\n",
        "        optimizer.zero_grad()\n",
        "        output = model(data)        \n",
        "        loss = contrastive_loss(output, target)\n",
        "        loss.backward()\n",
        "        optimizer.step()\n",
        "        loss = loss.item()\n",
        "        loss_log.append(loss)\n",
        "    return loss_log   \n",
        "\n",
        "def test(model):\n",
        "    loss_log = []\n",
        "    model.eval()\n",
        "    for batch_num, (data, target) in enumerate(test_loader):    \n",
        "        output = model(data)\n",
        "        loss = contrastive_loss(output, target)\n",
        "        loss = loss.item()\n",
        "        loss_log.append(loss)\n",
        "    return loss_log\n",
        "\n",
        "def plot_history(train_history, val_history, title='loss'):\n",
        "    plt.figure()\n",
        "    plt.title('{}'.format(title))\n",
        "    plt.plot(train_history, label='train', zorder=1)    \n",
        "    points = np.array(val_history)\n",
        "    plt.scatter(points[:, 0], points[:, 1], marker='+', s=180, c='orange', label='val', zorder=2)\n",
        "    plt.xlabel('train steps')\n",
        "    plt.legend(loc='best')\n",
        "    plt.grid()\n",
        "    plt.show()\n",
        "    \n",
        "def train(model, opt, n_epochs):\n",
        "    train_log = []\n",
        "    val_log = []\n",
        "\n",
        "    for epoch in range(n_epochs):\n",
        "        print(\"Epoch {0} of {1}\".format(epoch, n_epochs))\n",
        "        train_loss = train_epoch(model, opt)\n",
        "        val_loss = test(model)\n",
        "        train_log.extend(train_loss)\n",
        "        steps = train_dataset.train_labels.shape[0] / batch_size\n",
        "        val_log.append((steps * (epoch + 1), np.mean(val_loss)))\n",
        "        clear_output()\n",
        "        plot_history(train_log, val_log)"
      ],
      "execution_count": null,
      "outputs": []
    },
    {
      "cell_type": "code",
      "metadata": {
        "jupyter": {
          "outputs_hidden": true
        },
        "id": "m1QpsRfpuk-q"
      },
      "source": [
        "model = ContrastiveNetwork()"
      ],
      "execution_count": null,
      "outputs": []
    },
    {
      "cell_type": "markdown",
      "metadata": {
        "id": "x_vBnt52uk-0"
      },
      "source": [
        "Обучите сеть с параметрами, указанными ниже."
      ]
    },
    {
      "cell_type": "code",
      "metadata": {
        "jupyter": {
          "outputs_hidden": true
        },
        "id": "j0plnAAouk-1"
      },
      "source": [
        "opt = torch.optim.Adam(model.parameters(), lr=0.0005)\n",
        "train(model, opt, 2)"
      ],
      "execution_count": null,
      "outputs": []
    },
    {
      "cell_type": "markdown",
      "metadata": {
        "id": "-JW-AX-Nuk-4"
      },
      "source": [
        "Извлеките векторные описания тестовых изображений (a.k.a эмбеддинги). У вас должно получиться 10000 128-мерных векторов."
      ]
    },
    {
      "cell_type": "code",
      "metadata": {
        "jupyter": {
          "outputs_hidden": true
        },
        "id": "Cg9jSvm4uk-5"
      },
      "source": [
        "embeddings = #<your code>"
      ],
      "execution_count": null,
      "outputs": []
    },
    {
      "cell_type": "markdown",
      "metadata": {
        "id": "nofmBQ2luk-9"
      },
      "source": [
        "Код ниже демонстрирует поисковую выдачу для трех изображений-запросов. Выдача формируется на основе близости эмбеддингов."
      ]
    },
    {
      "cell_type": "code",
      "metadata": {
        "jupyter": {
          "outputs_hidden": true
        },
        "id": "Zmq4bVNmuk-9"
      },
      "source": [
        "queryCount = 3\n",
        "queries = embeddings[:queryCount,:].data.numpy()\n",
        "database = embeddings[queryCount:,:].data.numpy()\n",
        "plt.figure(figsize=[15, 4.5])\n",
        "for i in range(queryCount):\n",
        "    results = np.argsort(np.sum((database-queries[i,:])**2, axis=1))[:10]\n",
        "    plt.subplot(queryCount, 11, i * 11 + 1)\n",
        "    plt.title(\"Query: %i\" % i)\n",
        "    plt.imshow(test_dataset.test_data[i].numpy().reshape([28, 28]), cmap='gray')\n",
        "    for k in range(10):\n",
        "        plt.subplot(queryCount, 11, i * 11 + k + 2)\n",
        "        plt.imshow(test_dataset.test_data[results[k]+queryCount].numpy().reshape([28, 28]), cmap='gray')"
      ],
      "execution_count": null,
      "outputs": []
    },
    {
      "cell_type": "markdown",
      "metadata": {
        "id": "HPMg-415uk_B"
      },
      "source": [
        "# Сегментация изображений (0.5 баллов)"
      ]
    },
    {
      "cell_type": "markdown",
      "metadata": {
        "id": "KVS9IYQiuk_B"
      },
      "source": [
        "Сегментация изображения - это задача классификации каждого пикселя. Например, вот так (пример из датасета Cityscapes Dataset): \n",
        "\n",
        "<img src=\"cityscapes_example.png\" width=\"600\" height=\"500\">"
      ]
    },
    {
      "cell_type": "markdown",
      "metadata": {
        "id": "LyTXh52xuk_D"
      },
      "source": [
        "В этом ноутбуке предлагается реализовать модель UNet для двухклассовой сегментации изображений."
      ]
    },
    {
      "cell_type": "code",
      "metadata": {
        "id": "9l6FELK4uk_D"
      },
      "source": [
        "from torch.optim.lr_scheduler import StepLR\n",
        "\n",
        "from tqdm import trange"
      ],
      "execution_count": null,
      "outputs": []
    },
    {
      "cell_type": "code",
      "metadata": {
        "id": "EXm4re8buk_G"
      },
      "source": [
        "from utils import WeizmannHorsesDataset, show_sample, plot_batch_with_results, plot_history, mean_accuracy, pixel_accuracy, mean_iou"
      ],
      "execution_count": null,
      "outputs": []
    },
    {
      "cell_type": "markdown",
      "metadata": {
        "id": "z5Y-e-Xquk_J"
      },
      "source": [
        "### Скачивание и чтение данных"
      ]
    },
    {
      "cell_type": "markdown",
      "metadata": {
        "id": "aSF24Qc1uk_K"
      },
      "source": [
        "В качестве датасета мы будем использовать датасет Weizmann Horse Database (источник: http://www.msri.org/m/people/members/eranb/ раздел - Horse Images), состоящий из черно-белых и цветных фотографий лошадей и разметки на два класса - foreground и background."
      ]
    },
    {
      "cell_type": "code",
      "metadata": {
        "id": "BQPzqyqGuk_K"
      },
      "source": [
        "#! wget http://www.msri.org/people/members/eranb/weizmann_horse_db.tar.gz -O data.tar.gz\n",
        "#! tar -xzf data.tar.gz"
      ],
      "execution_count": null,
      "outputs": []
    },
    {
      "cell_type": "code",
      "metadata": {
        "id": "EKYCTQftuk_M"
      },
      "source": [
        "data_path = \"weizmann_horse_db\" \n",
        "dataset = WeizmannHorsesDataset(data_path, \"test\", img_shape = (40,60), color = \"rgb\")"
      ],
      "execution_count": null,
      "outputs": []
    },
    {
      "cell_type": "code",
      "metadata": {
        "id": "e5aae-3Juk_O",
        "outputId": "3ad6229e-cb66-4cc4-ddf0-51b065d8854e"
      },
      "source": [
        "show_sample(dataset, 0)"
      ],
      "execution_count": null,
      "outputs": [
        {
          "output_type": "display_data",
          "data": {
            "image/png": "[encoded data removed]",
            "text/plain": [
              "<Figure size 1080x288 with 2 Axes>"
            ]
          },
          "metadata": {
            "tags": [],
            "needs_background": "light"
          }
        }
      ]
    },
    {
      "cell_type": "markdown",
      "metadata": {
        "id": "p5M19xupuk_R"
      },
      "source": [
        "## Модель"
      ]
    },
    {
      "cell_type": "markdown",
      "metadata": {
        "id": "L4t2N10_uk_S"
      },
      "source": [
        "Схема модели UNet из оригинальной статьи (https://arxiv.org/abs/1505.04597 ):"
      ]
    },
    {
      "cell_type": "markdown",
      "metadata": {
        "id": "lgPV8VvJuk_S"
      },
      "source": [
        "<img src=\"UNet.png\" width=\"600\" height=\"500\">"
      ]
    },
    {
      "cell_type": "markdown",
      "metadata": {
        "id": "xxcDlcf6uk_T"
      },
      "source": [
        "На изображении выше синие блоки - карты признаков (feature maps). \n",
        "\n",
        "На вход модель принимает исходное изображение, результат модели - сегментация входного изображения (классификация каждого пикселя).\n",
        "\n",
        "Модель состоит из энкодера (на схеме слева) и декодера (справа).\n",
        "\n",
        "#### О реализации:\n",
        "\n",
        "Несколько одинаковых слоев сети, обрабатывающих feature map без изменения размера (например, повторение слоев Conv2d, BatchNorm2d, ReLU) реализованы в классе **ConvBlock**. На изображении один ConvBlock соответствует нескольким подряд идущим синим стрелкам.\n",
        "\n",
        "В реализации можно не делать crop при копировании feature map, а использовать padding, чтобы размеры карт признаков на одних и тех же уровнях декодера и энкодера совпадали.\n",
        "\n",
        "Для увеличения размера карты признаков при декодировании (**UpBlock**) вам могут понадобиться nn.ConvTranspose2d или nn.Upsample.\n",
        "\n",
        "В каждом следующем кодирующем/декодирующем слое **DownBlock**/**UpBlock** предполагается уменьшение/увеличение x-y размеров в $c_1$ раз и увеличение/уменьшение количества каналов в $c_2$ раз. Например, можно взять $c_1 = c_2 = 2$."
      ]
    },
    {
      "cell_type": "code",
      "metadata": {
        "id": "s7qdkRJSuk_U"
      },
      "source": [
        "class ConvBlock(nn.Module):\n",
        "    '''\n",
        "       Convolutional Block, includes several sequential convolutional and activation layers.\n",
        "       Hint: include BatchNorm here\n",
        "    '''\n",
        "    def __init__(self, input_ch, output_ch, kernel_size, block_depth):\n",
        "        '''\n",
        "            input_ch - input channels num\n",
        "            output_ch - output channels num\n",
        "            kernel_size - kernel size for convolution layers\n",
        "            block_depth - number of convolution + activation repetitions\n",
        "        '''\n",
        "        super().__init__()\n",
        "        \n",
        "        # your code\n",
        "        # conv_list = \n",
        "\n",
        "        self.conv_net = nn.Sequential(*conv_list)\n",
        "\n",
        "    def forward(self, x):\n",
        "        x = self.conv_net(x)\n",
        "        return x\n",
        "    \n",
        "    \n",
        "class DownBlock(nn.Module):\n",
        "    '''\n",
        "        Encoding block, includes pooling (for shape reduction) and Convolutional Block (ConvBlock)\n",
        "    '''\n",
        "    def __init__(self, input_ch, output_ch, kernel_size, block_depth):\n",
        "        super().__init__()\n",
        "        \n",
        "        # your code\n",
        "        # self.layers = \n",
        "\n",
        "    def forward(self, x):\n",
        "        x = self.layers(x)\n",
        "        return x\n",
        "\n",
        "\n",
        "class UpBlock(nn.Module):\n",
        "    '''\n",
        "        Decoding block, includes upsampling and Convolutional Block (ConvBlock)\n",
        "    '''\n",
        "    def __init__(self, input_ch, output_ch, kernel_size, block_depth):\n",
        "        super().__init__()\n",
        "        \n",
        "        # your code\n",
        "\n",
        "    def forward(self, copied_input, lower_input):\n",
        "        '''\n",
        "            copied_input - feature map from one of the encoder layers\n",
        "            lower_input - feature map from previous decoder layer\n",
        "        '''\n",
        "        # your code\n",
        "        \n",
        "        return x\n"
      ],
      "execution_count": null,
      "outputs": []
    },
    {
      "cell_type": "code",
      "metadata": {
        "id": "ESt62aWeuk_X"
      },
      "source": [
        "class UNet(nn.Module):\n",
        "    def __init__(self, n_classes, feature_levels_num, input_ch_size, hidden_ch_size, block_depth, kernel_size = 3):\n",
        "        \"\"\"\n",
        "        Input:\n",
        "            n_classes - number of classes\n",
        "            feature_levels_num - number of down- and up- block levels\n",
        "            input_ch_size - input number of channels (1 for gray images, 3 for rgb)\n",
        "            hidden_ch_size - output number of channels of the first Convolutional Block (in the original paper - 32)\n",
        "            block_depth - number of convolutions + activations in one Convolutional Block\n",
        "            kernel_size - kernel size for all convolution layers\n",
        "        \"\"\"\n",
        "        super(UNet, self).__init__()\n",
        "        self.input_block = ConvBlock(input_ch_size, hidden_ch_size, 1, block_depth)\n",
        "        self.down_blocks = []\n",
        "        self.up_blocks = []\n",
        "        self.feature_levels_num = feature_levels_num\n",
        "        \n",
        "        \n",
        "        cur_ch_num = hidden_ch_size\n",
        "        for _ in range(feature_levels_num):\n",
        "            # your code\n",
        "            # fill self.down_blocks and self.up_blocks with DownBlock/UpBlock\n",
        "            # each DownBlock/UpBlock increase/decrease number of channels by 2 times\n",
        "        \n",
        "        self.down_blocks = nn.ModuleList(self.down_blocks)\n",
        "        self.up_blocks = nn.ModuleList(self.up_blocks)\n",
        "        self.output_block = ConvBlock(hidden_ch_size, n_classes, 1, block_depth)\n",
        "\n",
        "    def forward(self, x):\n",
        "        x = self.input_block(x)\n",
        "        \n",
        "        # your code\n",
        "        \n",
        "        x = self.output_block(x)\n",
        "        return x  "
      ],
      "execution_count": null,
      "outputs": []
    },
    {
      "cell_type": "markdown",
      "metadata": {
        "id": "RlnS-6Yiuk_a"
      },
      "source": [
        "## Метрики качества"
      ]
    },
    {
      "cell_type": "markdown",
      "metadata": {
        "id": "Kts-Pv3luk_b"
      },
      "source": [
        "Для сегментации изображения размера $H \\times W$ на множество классов $С$ могут быть рассмотрены следующие метрики:"
      ]
    },
    {
      "cell_type": "markdown",
      "metadata": {
        "id": "W-F7GLffuk_b"
      },
      "source": [
        "$$Mean~IoU = \\frac{1}{|C|}\\sum_{i \\in C}\\frac{TP_i}{FP_i + TP_i + FN_i}$$\n",
        "\n",
        "$$Pixel~Accuracy = \\frac{\\sum_{i \\in C}TP_i}{H\\times W}$$\n",
        "\n",
        "$$Mean~Accuracy = \\sum_{i \\in C}\\frac{TP_i}{TP_i + FN_i}$$"
      ]
    },
    {
      "cell_type": "markdown",
      "metadata": {
        "id": "AVBdF1t_uk_c"
      },
      "source": [
        "## Обучение"
      ]
    },
    {
      "cell_type": "code",
      "metadata": {
        "id": "MX2tKjrRuk_c"
      },
      "source": [
        "from collections import defaultdict"
      ],
      "execution_count": null,
      "outputs": []
    },
    {
      "cell_type": "code",
      "metadata": {
        "id": "HE6bczIDuk_f"
      },
      "source": [
        "def train_epoch(model, optimizer, train_loader):\n",
        "    loss_log = []\n",
        "    model.train()\n",
        "    for _, (x_batch, y_batch) in zip(trange(len(train_loader)), train_loader):\n",
        "        optimizer.zero_grad()\n",
        "        prediction = model(x_batch)\n",
        "        loss = nn.CrossEntropyLoss()(prediction, y_batch.squeeze())\n",
        "        loss.backward()\n",
        "        optimizer.step()\n",
        "        loss_log.append(loss.item())\n",
        "    return loss_log\n",
        "\n",
        "def test(model, test_loader, train_loader):\n",
        "    '''\n",
        "        Computes metrics on both train and test, loss on test\n",
        "    '''\n",
        "    history = defaultdict(list)\n",
        "    model.eval()\n",
        "    \n",
        "    for batch_num, (x_batch, y_batch) in zip(trange(len(test_loader)), test_loader):\n",
        "        pred = model(x_batch)\n",
        "        ce_loss = nn.CrossEntropyLoss()(pred, y_batch.squeeze()).item()\n",
        "        pred = torch.argmax(pred, dim = 1) #before: (bs, classes, h, w)\n",
        "        iou_sum = 0\n",
        "        pixel_acc_sum = 0\n",
        "        mean_acc_sum = 0\n",
        "        for i in range(x_batch.shape[0]):\n",
        "            iou_sum += mean_iou(pred[i].cpu().squeeze(), y_batch[i].cpu().squeeze())\n",
        "            pixel_acc_sum += pixel_accuracy(pred[i].cpu().squeeze(), y_batch[i].cpu().squeeze())\n",
        "            mean_acc_sum += mean_accuracy(pred[i].cpu().squeeze(), y_batch[i].cpu().squeeze())\n",
        "            \n",
        "        history[\"loss_val\"].append(ce_loss)\n",
        "        history[\"iou_val\"].append(iou_sum/x_batch.shape[0])\n",
        "        history[\"pixel_acc_val\"].append(pixel_acc_sum/x_batch.shape[0])\n",
        "        history[\"mean_acc_val\"].append(mean_acc_sum/x_batch.shape[0])\n",
        "        \n",
        "        if batch_num == 0:\n",
        "            plot_batch_with_results(x_batch.cpu(), y_batch.cpu(), pred.cpu()) \n",
        "            \n",
        "    for batch_num, (x_batch, y_batch) in zip(trange(len(train_loader)), train_loader):  \n",
        "        pred = torch.argmax(model(x_batch), dim = 1)\n",
        "        iou_sum = 0\n",
        "        pixel_acc_sum = 0\n",
        "        mean_acc_sum = 0\n",
        "        for i in range(x_batch.shape[0]):\n",
        "            pred_squeezed = pred[i].squeeze()\n",
        "            y_squeezed = y_batch[i].squeeze()\n",
        "            iou_sum += mean_iou(pred_squeezed, y_squeezed)\n",
        "            pixel_acc_sum += pixel_accuracy(pred_squeezed, y_squeezed)\n",
        "            mean_acc_sum += mean_accuracy(pred_squeezed, y_squeezed)\n",
        "        \n",
        "        history[\"iou_train\"].append(iou_sum/x_batch.shape[0])\n",
        "        history[\"pixel_acc_train\"].append(pixel_acc_sum/x_batch.shape[0])\n",
        "        history[\"mean_acc_train\"].append(mean_acc_sum/x_batch.shape[0])\n",
        "\n",
        "    return history\n",
        "    \n",
        "def train_procedure(model, opt, n_epochs, train_loader, test_loader, scheduler):\n",
        "    history = defaultdict(list)\n",
        "    steps = len(train_loader)\n",
        "\n",
        "    for epoch in range(n_epochs):\n",
        "        \n",
        "        train_loss = train_epoch(model, opt, train_loader)\n",
        "        test_history = test(model, test_loader, train_loader)\n",
        "        \n",
        "        history[\"loss_train\"].extend(train_loss)\n",
        "        history[\"loss_val\"].append((steps * (epoch + 1), np.mean(test_history[\"loss_val\"])))\n",
        "        \n",
        "        for key in test_history:\n",
        "            if (key != \"loss_val\"):\n",
        "                history[key].append(np.mean(test_history[key]))\n",
        "                \n",
        "        plot_history(history)\n",
        "        \n",
        "        print(\"Epoch average loss:\", np.mean(train_loss))\n",
        "        print(\"Epoch validation metrics:\")\n",
        "        print(\"\\tIoU -\", history['iou_val'][-1])\n",
        "        print(\"\\tmean accuracy -\", history['mean_acc_val'][-1])\n",
        "        print(\"\\tpixel acc -\", history[\"pixel_acc_val\"][-1])"
      ],
      "execution_count": null,
      "outputs": []
    },
    {
      "cell_type": "markdown",
      "metadata": {
        "id": "XPD_u5GYuk_h"
      },
      "source": [
        "Подберите параметры сети, обучите модель. Если все сделано правильно, то итоговое значение IoU должно превосходить 0.8."
      ]
    },
    {
      "cell_type": "code",
      "metadata": {
        "id": "0ZmOq7ifuk_i"
      },
      "source": [
        "#your parameters\n",
        "n_classes = 2\n",
        "shape = (40,60)\n",
        "input_ch_size = 3\n",
        "hidden_ch_size = \n",
        "feature_levels_num = \n",
        "block_depth = \n",
        "\n",
        "batch_size = 8\n",
        "n_epochs = 25\n",
        "lr = 0.05\n",
        "lr_step = 10 \n",
        "lr_gamma = 0.5"
      ],
      "execution_count": null,
      "outputs": []
    },
    {
      "cell_type": "code",
      "metadata": {
        "id": "bKviKokouk_q"
      },
      "source": [
        "train_dataset = WeizmannHorsesDataset(root=data_path, split=\"train\", img_shape = shape)\n",
        "test_dataset = WeizmannHorsesDataset(root=data_path, split=\"val\", img_shape = shape)\n",
        "\n",
        "train_loader = torch.utils.data.DataLoader(dataset=train_dataset, batch_size=batch_size, shuffle = True)\n",
        "test_loader = torch.utils.data.DataLoader(dataset=test_dataset, batch_size=batch_size, shuffle = True)\n",
        "\n",
        "model = UNet(n_classes, feature_levels_num, input_ch_size, hidden_ch_size, block_depth)\n",
        "\n",
        "opt = torch.optim.Adam(model.parameters(), lr=lr)\n",
        "scheduler = StepLR(opt, step_size=lr_step, gamma=lr_gamma)\n",
        "train_procedure(model, opt, n_epochs, train_loader, test_loader, scheduler = scheduler)"
      ],
      "execution_count": null,
      "outputs": []
    },
    {
      "cell_type": "code",
      "metadata": {
        "jupyter": {
          "outputs_hidden": true
        },
        "id": "m60O2Iahuk_t"
      },
      "source": [
        ""
      ],
      "execution_count": null,
      "outputs": []
    }
  ]
}